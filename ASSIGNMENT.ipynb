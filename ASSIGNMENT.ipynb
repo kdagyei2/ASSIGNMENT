{
 "cells": [
  {
   "attachments": {},
   "cell_type": "markdown",
   "metadata": {},
   "source": [
    "<h3 style=\"text-align:center\">KWAME NKRUMAH UNIVERSITY OF SCIENCE AND TECHNOLOGY</h3>\n",
    "<h3 style=\"text-align:center\">DEPARTMENT OF PHYSICS</h3>\n",
    "<h3 style=\"text-align:center\">PHY 469 ASSIGNMENT</h3>\n",
    "\n",
    "Name: AGYEI KWAKU DARKO\n",
    "</br>\n",
    "Index No: 9444319"
   ]
  },
  {
   "attachments": {},
   "cell_type": "markdown",
   "metadata": {},
   "source": [
    "<h3 style=\"color:blue\">Background To Computational Physics</h3>\n",
    "Computational physics is a field of study that uses computer simulations and numerical methods to solve complex physical problems that cannot be solved analytically. It involves applying algorithms and computational techniques to model and analyze physical systems, ranging from subatomic particles to astrophysical phenomena. Different theories in physics that are based on mathematical models can make extremely accurate predictions about how systems will behave. Unfortunately, it frequently is not possible to solve the mathematical model for a specific system to make a useful prediction. This could happen, for instance, if the answer is very complex or lacks a closed-form expression. Such situations need numerical approximations. These numerical approximations are the subject of computational physics; the approximate solution is written as a finite (and frequently very large) number of simple mathematical operations (algorithm). A computer is used to carry out these operations and compute the approximate solution and corresponding error.\n",
    "Due to the wide range of problems it encounters, computational physics is typically classified according to the various mathematical challenges it numerically resolves or the techniques it employs. Between them, one can take into account the following: matrix eigenvalue problem (using, for example, Jacobi eigenvalue algorithm and power iteration), system of linear equations (using, for example, LU decomposition), integration (using, for example, Romberg method and Monte Carlo integration), partial differential equations (using, for example, finite difference method and relaxation method), and root finding (using, for example, Newton-Raphson method).\n",
    "Calculating the physical characteristics of the modelled systems involves using all of these techniques as well as numerous more.\n",
    "\n",
    "\n",
    "One of the best examples of computational physics is the problem below, which involves numerically solving the Schrödinger equation for a particle in a one-dimensional potential well. In order to address the eigenvalue problem that results from discretizing the wavefunction and potential energy function in this problem, we first utilise numerical methods to discretize the wavefunction and potential energy function.\n",
    "\n",
    "By allowing us to model and simulate complicated systems that are difficult to study experimentally, computational physics plays a crucial role in furthering our understanding of the physical universe. It has applications in a wide range of fields, including condensed matter physics, astrophysics, quantum mechanics, biophysics, etc."
   ]
  },
  {
   "attachments": {},
   "cell_type": "markdown",
   "metadata": {},
   "source": [
    "<h3 style=\"color:blue\">Solving the problem</h3>\n",
    "<p>Here we solve solve the time-independent Schrödinger equation for a particle in a one-dimensional potential well using the finite difference method</p>"
   ]
  },
  {
   "cell_type": "code",
   "execution_count": null,
   "metadata": {},
   "outputs": [],
   "source": [
    "import numpy as np\n",
    "import matplotlib.pyplot as plt\n",
    "\n",
    "class Schrodinger:\n",
    "    def __init__(self, a, b, Vo, N):\n",
    "        # Where Vo = barrier height, a = width of the well,  b = total width of the well\n",
    "        # H = Hamiltonian matrix \n",
    "        self.a = a\n",
    "        self.b = b\n",
    "        self.Vo = Vo\n",
    "        self.N = N\n",
    "        self.dx = (b-a)/(N+1)\n",
    "        self.x = np.linspace(a, b, N+2)\n",
    "        self.V = np.zeros(N+2)\n",
    "        self.V[self.x<a] = np.inf\n",
    "        self.V[self.x>b] = np.inf\n",
    "        self.V[(self.x>=a) & (self.x<=b)] = Vo\n",
    "        self.H = np.zeros((N,N))\n",
    "        for i in range(N):\n",
    "            self.H[i,i] = -2/(self.dx**2) + self.V[i+1]\n",
    "            if i<N-1:\n",
    "                self.H[i,i+1] = 1/(self.dx**2)\n",
    "                self.H[i+1,i] = 1/(self.dx**2)\n",
    "        self.E, self.psi = np.linalg.eigh(self.H)\n",
    "        self.psi = np.vstack((np.zeros(N),self.psi.T,np.zeros(N)))\n",
    "    \n",
    "    def plot_wavefunction(self, n):\n",
    "        plt.plot(self.x, self.psi[n]**2)\n",
    "        plt.xlabel('Position')\n",
    "        plt.ylabel('Probability density')\n",
    "        plt.title(f'Wavefunction for energy level {n+1}')\n",
    "        plt.show()\n",
    "    \n",
    "    def plot_energy_levels(self):\n",
    "        plt.plot(np.arange(1,self.N+1),self.E)\n",
    "        plt.xlabel('Energy level')\n",
    "        plt.ylabel('Energy')\n",
    "        plt.title('Energy levels')\n",
    "        plt.show()\n",
    "\n",
    "N = 100\n",
    "s = Schrodinger(a=0, b=1, Vo=10, N=N)\n",
    "s.plot_energy_levels()\n",
    "s.plot_wavefunction(0)\n"
   ]
  },
  {
   "attachments": {},
   "cell_type": "markdown",
   "metadata": {},
   "source": [
    "<h3 style=\"color:blue\">Results and Discussion</h3>\n",
    "The above code plots the energy levels and the wavefunction for the ground state.\n",
    "To investigate the effect of the well width <b>a</b> and the barrier height <b>Vo</b> on the energy eigenvalues and wavefunctions, we can run the simulation for different values of <b>a</b> and <b>Vo</b>, and plot the results using the plot_wavefunction and plot_energy_levels methods. We can also compute the expectation value of the position and momentum operators to study the spatial and momentum distribution of the particle.\n",
    "\n",
    "The physical significance of the results is that they describe the energy levels and wavefunctions of a particle confined in a one-dimensional potential well. These wavefunctions can be used to model a variety of physical systems, including electrons in a semiconductor device or a particle in a nanoscale optical trap. The wavefunctions reflect the probability amplitude of locating the particle at a specific point, whereas the energy eigenvalues correspond to the permissible energy levels of the particle. Higher energy levels correlate to more exciting and less likely states, whereas the ground state wavefunction indicates the particle's most likely position.\n",
    "\n",
    "The particle's spatial confinement is altered by the well width <b>a</b>, which has an impact on the energy levels and wavefunctions. As the well gets smaller, the energy levels are spaced closer together and the well's wavefunctions become more confined. On the other hand, as the well gets bigger, the wavefunctions loosen up and the energy levels spread out more. By altering the potential energy barrier that the particle must cross to go from the well to the surrounding area, the barrier height <b>Vo</b> has an impact on the energy levels and wavefunctions. The energy levels spread out further and the wavefunctions become more confined to the well as the barrier height increases. Conversely, as the barrier height becomes smaller, the energy levels become more closely spaced and the wavefunctions become less confined."
   ]
  },
  {
   "attachments": {},
   "cell_type": "markdown",
   "metadata": {},
   "source": [
    "<h3 style=\"color:blue\">Conclusion</h3>\n",
    "A Python programme has been created that use the finite difference technique to numerically solve the time-independent Schrödinger equation for a particle in a one-dimensional potential well. With the aid of this simulation, we looked at how the particle's energy eigenvalues and wavefunctions were affected by the well width <b>a</b> and barrier height <b>Vo</b>, and we spoke about the results' physical importance.\n",
    "We observed that the well width and barrier height significantly affect the particle's energy levels and wavefunctions when <b>a</b> and <b>Vo</b> are varied. More tightly spaced energy levels and more localised wavefunctions are produced by narrower wells and higher barriers, whereas more widely spaced energy levels and less constrained wavefunctions are produced by larger wells and lower barriers.\n",
    "\n",
    "<h3 style=\"color:blue\">Challenges</h3>\n",
    "In my experience, developing a conceptual understanding of the fundamental concepts, such as wave-particle duality, superposition, and entanglement, is one of the most challenging aspects of learning quantum mechanics. These ideas might be difficult to understand since they defy common sense and lack clear physical comparisons.\n",
    "Again, developing the mathematical and computing abilities required to solve the intricate equations that occur in quantum mechanics is another difficulty. This requires understanding of differential equations, algebra, and numerical techniques like the shooting method and finite differences.\n",
    "\n",
    "<h3 style=\"color:blue\">Great Moments</h3>\n",
    "Being able to use numerical simulations to find solutions to challenging quantum mechanical puzzles are incredibly satisfying to me and the idea that it can even result in exciting new understandings about how quantum systems behave.\n",
    "Additionally, a greater comprehension of the underlying ideas and their consequences for physical systems can lead to some exciting developments in the study of quantum mechanics. When one understands, for instance, how essential quantum mechanics is to understanding the behaviour of electrons in materials or the future uses of quantum computers and encryption, one becomes insanely optimistic about the potential of quantum mechanics coupled with numerical simulations."
   ]
  }
 ],
 "metadata": {
  "kernelspec": {
   "display_name": "phy469",
   "language": "python",
   "name": "python3"
  },
  "language_info": {
   "codemirror_mode": {
    "name": "ipython",
    "version": 3
   },
   "file_extension": ".py",
   "mimetype": "text/x-python",
   "name": "python",
   "nbconvert_exporter": "python",
   "pygments_lexer": "ipython3",
   "version": "3.11.1"
  },
  "orig_nbformat": 4
 },
 "nbformat": 4,
 "nbformat_minor": 2
}
